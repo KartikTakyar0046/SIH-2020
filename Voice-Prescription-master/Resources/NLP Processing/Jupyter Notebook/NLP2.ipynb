{
 "cells": [
  {
   "cell_type": "code",
   "execution_count": 24,
   "metadata": {},
   "outputs": [
    {
     "name": "stdout",
     "output_type": "stream",
     "text": [
      "7\n"
     ]
    }
   ],
   "source": [
    "import re\n",
    "s = \"patients name is saraj sharma He is 25  years old and date of birth is 28th february 1999 he is suffering from acute bronchitis He is having symptoms which are dry cough for the last 3 days no fever and running nose he needs to take the following medicines  azithromycin 500 mg once a day for 3 days and robitussin 5 ml thrice a day for 5 days  he is advised to drink warm water and he is not allowed to eat grapes\"\n",
    "s = s.lower()\n",
    "z = re.split(' he ',s)\n",
    "print(len(z))"
   ]
  },
  {
   "cell_type": "code",
   "execution_count": 26,
   "metadata": {},
   "outputs": [
    {
     "data": {
      "text/html": [
       "<div>\n",
       "<style scoped>\n",
       "    .dataframe tbody tr th:only-of-type {\n",
       "        vertical-align: middle;\n",
       "    }\n",
       "\n",
       "    .dataframe tbody tr th {\n",
       "        vertical-align: top;\n",
       "    }\n",
       "\n",
       "    .dataframe thead th {\n",
       "        text-align: right;\n",
       "    }\n",
       "</style>\n",
       "<table border=\"1\" class=\"dataframe\">\n",
       "  <thead>\n",
       "    <tr style=\"text-align: right;\">\n",
       "      <th></th>\n",
       "      <th>0</th>\n",
       "    </tr>\n",
       "  </thead>\n",
       "  <tbody>\n",
       "    <tr>\n",
       "      <th>0</th>\n",
       "      <td>patients name is saraj sharma</td>\n",
       "    </tr>\n",
       "    <tr>\n",
       "      <th>1</th>\n",
       "      <td>is 25  years old and date of birth is 28th feb...</td>\n",
       "    </tr>\n",
       "    <tr>\n",
       "      <th>2</th>\n",
       "      <td>is suffering from acute bronchitis</td>\n",
       "    </tr>\n",
       "    <tr>\n",
       "      <th>3</th>\n",
       "      <td>is having symptoms which are dry cough for the...</td>\n",
       "    </tr>\n",
       "    <tr>\n",
       "      <th>4</th>\n",
       "      <td>needs to take the following medicines  azithro...</td>\n",
       "    </tr>\n",
       "  </tbody>\n",
       "</table>\n",
       "</div>"
      ],
      "text/plain": [
       "                                                   0\n",
       "0                      patients name is saraj sharma\n",
       "1  is 25  years old and date of birth is 28th feb...\n",
       "2                 is suffering from acute bronchitis\n",
       "3  is having symptoms which are dry cough for the...\n",
       "4  needs to take the following medicines  azithro..."
      ]
     },
     "execution_count": 26,
     "metadata": {},
     "output_type": "execute_result"
    }
   ],
   "source": [
    "import pandas as pd\n",
    "data = pd.DataFrame(z)"
   ]
  },
  {
   "cell_type": "code",
   "execution_count": 27,
   "metadata": {},
   "outputs": [
    {
     "data": {
      "text/html": [
       "<div>\n",
       "<style scoped>\n",
       "    .dataframe tbody tr th:only-of-type {\n",
       "        vertical-align: middle;\n",
       "    }\n",
       "\n",
       "    .dataframe tbody tr th {\n",
       "        vertical-align: top;\n",
       "    }\n",
       "\n",
       "    .dataframe thead th {\n",
       "        text-align: right;\n",
       "    }\n",
       "</style>\n",
       "<table border=\"1\" class=\"dataframe\">\n",
       "  <thead>\n",
       "    <tr style=\"text-align: right;\">\n",
       "      <th></th>\n",
       "      <th>body</th>\n",
       "    </tr>\n",
       "  </thead>\n",
       "  <tbody>\n",
       "    <tr>\n",
       "      <th>0</th>\n",
       "      <td>patients name is saraj sharma</td>\n",
       "    </tr>\n",
       "    <tr>\n",
       "      <th>1</th>\n",
       "      <td>is 25  years old and date of birth is 28th feb...</td>\n",
       "    </tr>\n",
       "    <tr>\n",
       "      <th>2</th>\n",
       "      <td>is suffering from acute bronchitis</td>\n",
       "    </tr>\n",
       "    <tr>\n",
       "      <th>3</th>\n",
       "      <td>is having symptoms which are dry cough for the...</td>\n",
       "    </tr>\n",
       "    <tr>\n",
       "      <th>4</th>\n",
       "      <td>needs to take the following medicines  azithro...</td>\n",
       "    </tr>\n",
       "  </tbody>\n",
       "</table>\n",
       "</div>"
      ],
      "text/plain": [
       "                                                body\n",
       "0                      patients name is saraj sharma\n",
       "1  is 25  years old and date of birth is 28th feb...\n",
       "2                 is suffering from acute bronchitis\n",
       "3  is having symptoms which are dry cough for the...\n",
       "4  needs to take the following medicines  azithro..."
      ]
     },
     "execution_count": 27,
     "metadata": {},
     "output_type": "execute_result"
    }
   ],
   "source": [
    "data.columns = ['body']\n",
    "data.head()"
   ]
  },
  {
   "cell_type": "code",
   "execution_count": 61,
   "metadata": {},
   "outputs": [
    {
     "data": {
      "text/html": [
       "<div>\n",
       "<style scoped>\n",
       "    .dataframe tbody tr th:only-of-type {\n",
       "        vertical-align: middle;\n",
       "    }\n",
       "\n",
       "    .dataframe tbody tr th {\n",
       "        vertical-align: top;\n",
       "    }\n",
       "\n",
       "    .dataframe thead th {\n",
       "        text-align: right;\n",
       "    }\n",
       "</style>\n",
       "<table border=\"1\" class=\"dataframe\">\n",
       "  <thead>\n",
       "    <tr style=\"text-align: right;\">\n",
       "      <th></th>\n",
       "      <th>body</th>\n",
       "      <th>body_text_clean</th>\n",
       "      <th>body_text</th>\n",
       "    </tr>\n",
       "  </thead>\n",
       "  <tbody>\n",
       "    <tr>\n",
       "      <th>0</th>\n",
       "      <td>patients name is saraj sharma</td>\n",
       "      <td>[patients, name, is, saraj, sharma]</td>\n",
       "      <td>[patients, name, saraj, sharma]</td>\n",
       "    </tr>\n",
       "    <tr>\n",
       "      <th>1</th>\n",
       "      <td>is 25  years old and date of birth is 28th feb...</td>\n",
       "      <td>[is, 25, years, old, and, date, of, birth, is,...</td>\n",
       "      <td>[25, years, old, date, birth, 28th, february, ...</td>\n",
       "    </tr>\n",
       "    <tr>\n",
       "      <th>2</th>\n",
       "      <td>is suffering from acute bronchitis</td>\n",
       "      <td>[is, suffering, from, acute, bronchitis]</td>\n",
       "      <td>[suffering, acute, bronchitis]</td>\n",
       "    </tr>\n",
       "    <tr>\n",
       "      <th>3</th>\n",
       "      <td>is having symptoms which are dry cough for the...</td>\n",
       "      <td>[is, having, symptoms, which, are, dry, cough,...</td>\n",
       "      <td>[symptoms, dry, cough, last, 3, days, fever, r...</td>\n",
       "    </tr>\n",
       "    <tr>\n",
       "      <th>4</th>\n",
       "      <td>needs to take the following medicines  azithro...</td>\n",
       "      <td>[needs, to, take, the, following, medicines, a...</td>\n",
       "      <td>[needs, take, following, medicines, azithromyc...</td>\n",
       "    </tr>\n",
       "  </tbody>\n",
       "</table>\n",
       "</div>"
      ],
      "text/plain": [
       "                                                body  \\\n",
       "0                      patients name is saraj sharma   \n",
       "1  is 25  years old and date of birth is 28th feb...   \n",
       "2                 is suffering from acute bronchitis   \n",
       "3  is having symptoms which are dry cough for the...   \n",
       "4  needs to take the following medicines  azithro...   \n",
       "\n",
       "                                     body_text_clean  \\\n",
       "0                [patients, name, is, saraj, sharma]   \n",
       "1  [is, 25, years, old, and, date, of, birth, is,...   \n",
       "2           [is, suffering, from, acute, bronchitis]   \n",
       "3  [is, having, symptoms, which, are, dry, cough,...   \n",
       "4  [needs, to, take, the, following, medicines, a...   \n",
       "\n",
       "                                           body_text  \n",
       "0                    [patients, name, saraj, sharma]  \n",
       "1  [25, years, old, date, birth, 28th, february, ...  \n",
       "2                     [suffering, acute, bronchitis]  \n",
       "3  [symptoms, dry, cough, last, 3, days, fever, r...  \n",
       "4  [needs, take, following, medicines, azithromyc...  "
      ]
     },
     "execution_count": 61,
     "metadata": {},
     "output_type": "execute_result"
    }
   ],
   "source": [
    "import re\n",
    "def tokenize(text):\n",
    "    tokens = re.split('\\W+',text)\n",
    "    return tokens\n",
    "data['body_text_clean'] = data['body'].apply(lambda x: tokenize(x.lower()))\n",
    "data.head()"
   ]
  },
  {
   "cell_type": "code",
   "execution_count": 29,
   "metadata": {},
   "outputs": [],
   "source": [
    "import nltk\n",
    "stopword = nltk.corpus.stopwords.words('english')"
   ]
  },
  {
   "cell_type": "code",
   "execution_count": 30,
   "metadata": {},
   "outputs": [],
   "source": [
    "def remove_stopwords(list):\n",
    "    text = [word for word in list if word not in stopword]\n",
    "    return text\n"
   ]
  },
  {
   "cell_type": "code",
   "execution_count": 97,
   "metadata": {},
   "outputs": [
    {
     "data": {
      "text/html": [
       "<div>\n",
       "<style scoped>\n",
       "    .dataframe tbody tr th:only-of-type {\n",
       "        vertical-align: middle;\n",
       "    }\n",
       "\n",
       "    .dataframe tbody tr th {\n",
       "        vertical-align: top;\n",
       "    }\n",
       "\n",
       "    .dataframe thead th {\n",
       "        text-align: right;\n",
       "    }\n",
       "</style>\n",
       "<table border=\"1\" class=\"dataframe\">\n",
       "  <thead>\n",
       "    <tr style=\"text-align: right;\">\n",
       "      <th></th>\n",
       "      <th>body</th>\n",
       "      <th>body_text_clean</th>\n",
       "      <th>body_text</th>\n",
       "      <th>body_text_nostop</th>\n",
       "    </tr>\n",
       "  </thead>\n",
       "  <tbody>\n",
       "    <tr>\n",
       "      <th>0</th>\n",
       "      <td>patients name is saraj sharma with age 25 and ...</td>\n",
       "      <td>[patients, name, is, saraj, sharma, with, age,...</td>\n",
       "      <td>[patients, name, saraj, sharma, age, 25, date,...</td>\n",
       "      <td>[patients, name, saraj, sharma, age, 25, date,...</td>\n",
       "    </tr>\n",
       "    <tr>\n",
       "      <th>1</th>\n",
       "      <td>is suffering from acute bronchitis symptoms in...</td>\n",
       "      <td>[is, suffering, from, acute, bronchitis, sympt...</td>\n",
       "      <td>[suffering, acute, bronchitis, symptoms, inclu...</td>\n",
       "      <td>[suffering, acute, bronchitis, symptoms, inclu...</td>\n",
       "    </tr>\n",
       "    <tr>\n",
       "      <th>2</th>\n",
       "      <td>needs to take azithromycin 500 mg once a day f...</td>\n",
       "      <td>[needs, to, take, azithromycin, 500, mg, once,...</td>\n",
       "      <td>[needs, take, azithromycin, 500, mg, day, 3, d...</td>\n",
       "      <td>[needs, take, azithromycin, 500, mg, day, 3, d...</td>\n",
       "    </tr>\n",
       "    <tr>\n",
       "      <th>3</th>\n",
       "      <td>is advised to drink warm water and</td>\n",
       "      <td>[is, advised, to, drink, warm, water, and]</td>\n",
       "      <td>[advised, drink, warm, water]</td>\n",
       "      <td>[advised, drink, warm, water]</td>\n",
       "    </tr>\n",
       "    <tr>\n",
       "      <th>4</th>\n",
       "      <td>is not allowed to eat grapes</td>\n",
       "      <td>[is, not, allowed, to, eat, grapes]</td>\n",
       "      <td>[allowed, eat, grapes]</td>\n",
       "      <td>[allowed, eat, grapes]</td>\n",
       "    </tr>\n",
       "  </tbody>\n",
       "</table>\n",
       "</div>"
      ],
      "text/plain": [
       "                                                body  \\\n",
       "0  patients name is saraj sharma with age 25 and ...   \n",
       "1  is suffering from acute bronchitis symptoms in...   \n",
       "2  needs to take azithromycin 500 mg once a day f...   \n",
       "3                 is advised to drink warm water and   \n",
       "4                       is not allowed to eat grapes   \n",
       "\n",
       "                                     body_text_clean  \\\n",
       "0  [patients, name, is, saraj, sharma, with, age,...   \n",
       "1  [is, suffering, from, acute, bronchitis, sympt...   \n",
       "2  [needs, to, take, azithromycin, 500, mg, once,...   \n",
       "3         [is, advised, to, drink, warm, water, and]   \n",
       "4                [is, not, allowed, to, eat, grapes]   \n",
       "\n",
       "                                           body_text  \\\n",
       "0  [patients, name, saraj, sharma, age, 25, date,...   \n",
       "1  [suffering, acute, bronchitis, symptoms, inclu...   \n",
       "2  [needs, take, azithromycin, 500, mg, day, 3, d...   \n",
       "3                      [advised, drink, warm, water]   \n",
       "4                             [allowed, eat, grapes]   \n",
       "\n",
       "                                    body_text_nostop  \n",
       "0  [patients, name, saraj, sharma, age, 25, date,...  \n",
       "1  [suffering, acute, bronchitis, symptoms, inclu...  \n",
       "2  [needs, take, azithromycin, 500, mg, day, 3, d...  \n",
       "3                      [advised, drink, warm, water]  \n",
       "4                             [allowed, eat, grapes]  "
      ]
     },
     "execution_count": 97,
     "metadata": {},
     "output_type": "execute_result"
    }
   ],
   "source": [
    "data['body_text_nostop'] = data['body_text_clean'].apply(lambda x: remove_stopwords(x))\n",
    "data.head()"
   ]
  },
  {
   "cell_type": "code",
   "execution_count": 80,
   "metadata": {},
   "outputs": [
    {
     "name": "stdout",
     "output_type": "stream",
     "text": [
      "0                  [patients, name, is, saraj, sharma]\n",
      "1    [is, 25, years, old, and, date, of, birth, is,...\n",
      "2             [is, suffering, from, acute, bronchitis]\n",
      "3    [is, having, symptoms, which, are, dry, cough,...\n",
      "4    [needs, to, take, the, following, medicines, a...\n",
      "5           [is, advised, to, drink, warm, water, and]\n",
      "6                  [is, not, allowed, to, eat, grapes]\n",
      "Name: body_text_clean, dtype: object\n"
     ]
    }
   ],
   "source": [
    "print(data['body_text_clean'])"
   ]
  },
  {
   "cell_type": "code",
   "execution_count": 35,
   "metadata": {},
   "outputs": [
    {
     "name": "stdout",
     "output_type": "stream",
     "text": [
      "patients name saraj sharma\n"
     ]
    }
   ],
   "source": [
    "S = ' '.join(data['body_text'][0])\n",
    "print(S)"
   ]
  },
  {
   "cell_type": "code",
   "execution_count": 39,
   "metadata": {},
   "outputs": [
    {
     "name": "stdout",
     "output_type": "stream",
     "text": [
      " saraj sharma\n"
     ]
    }
   ],
   "source": [
    "Name = re.split('name',S)[1]\n",
    "print(Name)"
   ]
  },
  {
   "cell_type": "code",
   "execution_count": 40,
   "metadata": {},
   "outputs": [
    {
     "name": "stdout",
     "output_type": "stream",
     "text": [
      "25 years old date birth 28th february 1999\n"
     ]
    }
   ],
   "source": [
    "D = ' '.join(data['body_text'][1])\n",
    "print(D)"
   ]
  },
  {
   "cell_type": "code",
   "execution_count": 83,
   "metadata": {},
   "outputs": [
    {
     "name": "stdout",
     "output_type": "stream",
     "text": [
      "25\n"
     ]
    }
   ],
   "source": [
    "Age = re.findall('^\\d\\d',D)[0]\n",
    "print(Age)"
   ]
  },
  {
   "cell_type": "code",
   "execution_count": 137,
   "metadata": {},
   "outputs": [
    {
     "name": "stdout",
     "output_type": "stream",
     "text": [
      "suffering acute bronchitis symptoms include include dry cough last 3 days fever running nose\n"
     ]
    }
   ],
   "source": [
    "Suffer = ' '.join(data['body_text'][1])\n",
    "print(Suffer)"
   ]
  },
  {
   "cell_type": "code",
   "execution_count": 140,
   "metadata": {},
   "outputs": [
    {
     "name": "stdout",
     "output_type": "stream",
     "text": [
      " acute bronchitis symptoms include include dry cough last 3 days fever running nose\n"
     ]
    }
   ],
   "source": [
    "S2 = re.split('suffering',Suffer)\n",
    "print(S2[1])"
   ]
  },
  {
   "cell_type": "code",
   "execution_count": 56,
   "metadata": {},
   "outputs": [
    {
     "name": "stdout",
     "output_type": "stream",
     "text": [
      "symptoms dry cough last 3 days fever running nose\n"
     ]
    }
   ],
   "source": [
    "Symp = ' '.join(data['body_text'][3])\n",
    "print(Symp)"
   ]
  },
  {
   "cell_type": "code",
   "execution_count": 76,
   "metadata": {},
   "outputs": [
    {
     "name": "stdout",
     "output_type": "stream",
     "text": [
      " dry cough last 3 days fever running nose\n"
     ]
    }
   ],
   "source": [
    "Symptoms1 = re.split('symptom[s*]',Symp)\n",
    "Symptoms = Symptoms1[1]\n",
    "print(Symptoms)"
   ]
  },
  {
   "cell_type": "code",
   "execution_count": 73,
   "metadata": {},
   "outputs": [
    {
     "name": "stdout",
     "output_type": "stream",
     "text": [
      " advised drink warm water allowed eat grapes\n"
     ]
    }
   ],
   "source": [
    "Advice = \"\"\n",
    "for i in range(5, len(z)):\n",
    "    Advice1 = ' '.join(data['body_text'][i])\n",
    "    Advice += \" \" + Advice1\n",
    "print(Advice)"
   ]
  },
  {
   "cell_type": "code",
   "execution_count": 78,
   "metadata": {},
   "outputs": [],
   "source": [
    "Med1 = \" \".join(data['body_text_clean'][4])"
   ]
  },
  {
   "cell_type": "code",
   "execution_count": 79,
   "metadata": {},
   "outputs": [],
   "source": [
    "Med = re.split('medicine[s*]',Med1)[1]"
   ]
  },
  {
   "cell_type": "code",
   "execution_count": 81,
   "metadata": {},
   "outputs": [],
   "source": [
    "Med2 = re.split(' and ',Med)"
   ]
  },
  {
   "cell_type": "code",
   "execution_count": 82,
   "metadata": {},
   "outputs": [
    {
     "name": "stdout",
     "output_type": "stream",
     "text": [
      "[' azithromycin 500 mg once a day for 3 days', 'robitussin 5 ml thrice a day for 5 days ']\n"
     ]
    }
   ],
   "source": [
    "print(Med2)"
   ]
  },
  {
   "cell_type": "code",
   "execution_count": 95,
   "metadata": {},
   "outputs": [
    {
     "ename": "IndexError",
     "evalue": "list index out of range",
     "output_type": "error",
     "traceback": [
      "\u001b[1;31m---------------------------------------------------------------------------\u001b[0m",
      "\u001b[1;31mIndexError\u001b[0m                                Traceback (most recent call last)",
      "\u001b[1;32m<ipython-input-95-c6c376bfcdb4>\u001b[0m in \u001b[0;36m<module>\u001b[1;34m\u001b[0m\n\u001b[0;32m     31\u001b[0m \u001b[0mSymp\u001b[0m \u001b[1;33m=\u001b[0m \u001b[1;34m' '\u001b[0m\u001b[1;33m.\u001b[0m\u001b[0mjoin\u001b[0m\u001b[1;33m(\u001b[0m\u001b[0mdata\u001b[0m\u001b[1;33m[\u001b[0m\u001b[1;34m'body_text'\u001b[0m\u001b[1;33m]\u001b[0m\u001b[1;33m[\u001b[0m\u001b[1;36m3\u001b[0m\u001b[1;33m]\u001b[0m\u001b[1;33m)\u001b[0m\u001b[1;33m\u001b[0m\u001b[1;33m\u001b[0m\u001b[0m\n\u001b[0;32m     32\u001b[0m \u001b[0mSymptoms1\u001b[0m \u001b[1;33m=\u001b[0m \u001b[0mre\u001b[0m\u001b[1;33m.\u001b[0m\u001b[0msplit\u001b[0m\u001b[1;33m(\u001b[0m\u001b[1;34m'symptoms'\u001b[0m\u001b[1;33m,\u001b[0m\u001b[0mSymp\u001b[0m\u001b[1;33m)\u001b[0m\u001b[1;33m\u001b[0m\u001b[1;33m\u001b[0m\u001b[0m\n\u001b[1;32m---> 33\u001b[1;33m \u001b[0mSymptoms\u001b[0m \u001b[1;33m=\u001b[0m \u001b[0mSymptoms1\u001b[0m\u001b[1;33m[\u001b[0m\u001b[1;36m1\u001b[0m\u001b[1;33m]\u001b[0m\u001b[1;33m\u001b[0m\u001b[1;33m\u001b[0m\u001b[0m\n\u001b[0m\u001b[0;32m     34\u001b[0m \u001b[0mMed1\u001b[0m \u001b[1;33m=\u001b[0m \u001b[1;34m\" \"\u001b[0m\u001b[1;33m.\u001b[0m\u001b[0mjoin\u001b[0m\u001b[1;33m(\u001b[0m\u001b[0mdata\u001b[0m\u001b[1;33m[\u001b[0m\u001b[1;34m'body_text_clean'\u001b[0m\u001b[1;33m]\u001b[0m\u001b[1;33m[\u001b[0m\u001b[1;36m4\u001b[0m\u001b[1;33m]\u001b[0m\u001b[1;33m)\u001b[0m\u001b[1;33m\u001b[0m\u001b[1;33m\u001b[0m\u001b[0m\n\u001b[0;32m     35\u001b[0m \u001b[0mMed\u001b[0m \u001b[1;33m=\u001b[0m \u001b[0mre\u001b[0m\u001b[1;33m.\u001b[0m\u001b[0msplit\u001b[0m\u001b[1;33m(\u001b[0m\u001b[1;34m'medicine[s*]'\u001b[0m\u001b[1;33m,\u001b[0m\u001b[0mMed1\u001b[0m\u001b[1;33m)\u001b[0m\u001b[1;33m[\u001b[0m\u001b[1;36m1\u001b[0m\u001b[1;33m]\u001b[0m\u001b[1;33m\u001b[0m\u001b[1;33m\u001b[0m\u001b[0m\n",
      "\u001b[1;31mIndexError\u001b[0m: list index out of range"
     ]
    }
   ],
   "source": [
    "import re\n",
    "import pandas as pd\n",
    "import re\n",
    "import nltk\n",
    "stopword = nltk.corpus.stopwords.words('english')\n",
    "\n",
    "s = \"patients name is saraj sharma with age 25 and date of birth 28th february 1999 he is suffering from acute bronchitis symptoms include include dry cough for the last 3 days no fever and running nose he needs to take azithromycin 500 mg once a day for 3 days and robitussin 5 ml thrice a day for 5 days he is advised to drink warm water and he is not allowed to eat grapes\"\n",
    "s = s.lower()\n",
    "\n",
    "z = re.split(' he ',s)\n",
    "\n",
    "data = pd.DataFrame(z)\n",
    "data.columns = ['body']\n",
    "def tokenize(text):\n",
    "    tokens = re.split('\\W+',text)\n",
    "    return tokens\n",
    "data['body_text_clean'] = data['body'].apply(lambda x: tokenize(x.lower()))\n",
    "def remove_stopwords(list):\n",
    "    text = [word for word in list if word not in stopword]\n",
    "    return text\n",
    "data['body_text'] = data['body_text_clean'].apply(lambda x: remove_stopwords(x))\n",
    "S = ' '.join(data['body_text'][0])\n",
    "Name = re.split('name',S)[1]\n",
    "D = ' '.join(data['body_text'][1])\n",
    "Age = re.findall(' \\d\\d ',s)[0]\n",
    "Suffer = ' '.join(data['body_text'][2])\n",
    "S2 = re.split('suffering',Suffer)\n",
    "if(len(S2)<2):\n",
    "    S2 = re.split('has', Suffer)\n",
    "b = len(S2)\n",
    "S4 = S2[b-1]\n",
    "Symp = ' '.join(data['body_text'][3])\n",
    "Symptoms1 = re.split('symptoms',Symp)\n",
    "Symptoms = Symptoms1[1]\n",
    "Med1 = \" \".join(data['body_text_clean'][4])\n",
    "Med = re.split('medicine[s*]',Med1)[1]\n",
    "Med2 = re.split(' and ',Med)\n",
    "Advice = \"\"\n",
    "for i in range(5, len(z)):\n",
    "    Advice1 = ' '.join(data['body_text_clean'][i])\n",
    "    Advice += \" \" + Advice1\n",
    "\n",
    "\n",
    "print('Name: '+Name + \"\\n\")\n",
    "print('Age: '+Age + \"\\n\")\n",
    "print('Diagnosis: ' + S4 + \"\\n\")\n",
    "print('Symptoms: '+ Symptoms + \"\\n\")\n",
    "print('Medicine: ')\n",
    "for i in range(0,len(Med2)):\n",
    "    print(i+1)\n",
    "    print(\" \" + Med2[i] + \"\\n\")\n",
    "print('Advice: '+Advice)\n"
   ]
  },
  {
   "cell_type": "code",
   "execution_count": 102,
   "metadata": {},
   "outputs": [
    {
     "name": "stdout",
     "output_type": "stream",
     "text": [
      "11\n"
     ]
    }
   ],
   "source": [
    "print(len(data['body_text'][0]))"
   ]
  },
  {
   "cell_type": "code",
   "execution_count": 111,
   "metadata": {},
   "outputs": [
    {
     "ename": "TypeError",
     "evalue": "expected string or bytes-like object",
     "output_type": "error",
     "traceback": [
      "\u001b[1;31m---------------------------------------------------------------------------\u001b[0m",
      "\u001b[1;31mTypeError\u001b[0m                                 Traceback (most recent call last)",
      "\u001b[1;32m<ipython-input-111-0a6dcc6251e7>\u001b[0m in \u001b[0;36m<module>\u001b[1;34m\u001b[0m\n\u001b[0;32m     23\u001b[0m     \u001b[0mt\u001b[0m \u001b[1;33m=\u001b[0m \u001b[0mlen\u001b[0m\u001b[1;33m(\u001b[0m\u001b[0mdata\u001b[0m\u001b[1;33m[\u001b[0m\u001b[1;34m'body_text'\u001b[0m\u001b[1;33m]\u001b[0m\u001b[1;33m[\u001b[0m\u001b[0me\u001b[0m\u001b[1;33m]\u001b[0m\u001b[1;33m)\u001b[0m\u001b[1;33m\u001b[0m\u001b[1;33m\u001b[0m\u001b[0m\n\u001b[0;32m     24\u001b[0m     \u001b[1;32mfor\u001b[0m \u001b[0mm\u001b[0m \u001b[1;32min\u001b[0m \u001b[0mrange\u001b[0m\u001b[1;33m(\u001b[0m\u001b[1;36m0\u001b[0m\u001b[1;33m,\u001b[0m\u001b[0mt\u001b[0m\u001b[1;33m)\u001b[0m\u001b[1;33m:\u001b[0m\u001b[1;33m\u001b[0m\u001b[1;33m\u001b[0m\u001b[0m\n\u001b[1;32m---> 25\u001b[1;33m         \u001b[0mx\u001b[0m \u001b[1;33m=\u001b[0m \u001b[0mre\u001b[0m\u001b[1;33m.\u001b[0m\u001b[0msearch\u001b[0m\u001b[1;33m(\u001b[0m\u001b[1;34m\"suff\"\u001b[0m\u001b[1;33m,\u001b[0m \u001b[0mdata\u001b[0m\u001b[1;33m[\u001b[0m\u001b[1;34m'body_text'\u001b[0m\u001b[1;33m]\u001b[0m\u001b[1;33m[\u001b[0m\u001b[0me\u001b[0m\u001b[1;33m]\u001b[0m\u001b[1;33m)\u001b[0m\u001b[1;33m\u001b[0m\u001b[1;33m\u001b[0m\u001b[0m\n\u001b[0m\u001b[0;32m     26\u001b[0m         \u001b[1;32mif\u001b[0m\u001b[1;33m(\u001b[0m\u001b[0mx\u001b[0m\u001b[1;33m.\u001b[0m\u001b[0mstart\u001b[0m\u001b[1;33m(\u001b[0m\u001b[1;33m)\u001b[0m\u001b[1;33m)\u001b[0m\u001b[1;33m:\u001b[0m\u001b[1;33m\u001b[0m\u001b[1;33m\u001b[0m\u001b[0m\n\u001b[0;32m     27\u001b[0m             \u001b[0mindex_s\u001b[0m \u001b[1;33m=\u001b[0m \u001b[0me\u001b[0m\u001b[1;33m\u001b[0m\u001b[1;33m\u001b[0m\u001b[0m\n",
      "\u001b[1;32mc:\\users\\hp\\appdata\\local\\programs\\python\\python37-32\\lib\\re.py\u001b[0m in \u001b[0;36msearch\u001b[1;34m(pattern, string, flags)\u001b[0m\n\u001b[0;32m    181\u001b[0m     \"\"\"Scan through string looking for a match to the pattern, returning\n\u001b[0;32m    182\u001b[0m     a Match object, or None if no match was found.\"\"\"\n\u001b[1;32m--> 183\u001b[1;33m     \u001b[1;32mreturn\u001b[0m \u001b[0m_compile\u001b[0m\u001b[1;33m(\u001b[0m\u001b[0mpattern\u001b[0m\u001b[1;33m,\u001b[0m \u001b[0mflags\u001b[0m\u001b[1;33m)\u001b[0m\u001b[1;33m.\u001b[0m\u001b[0msearch\u001b[0m\u001b[1;33m(\u001b[0m\u001b[0mstring\u001b[0m\u001b[1;33m)\u001b[0m\u001b[1;33m\u001b[0m\u001b[1;33m\u001b[0m\u001b[0m\n\u001b[0m\u001b[0;32m    184\u001b[0m \u001b[1;33m\u001b[0m\u001b[0m\n\u001b[0;32m    185\u001b[0m \u001b[1;32mdef\u001b[0m \u001b[0msub\u001b[0m\u001b[1;33m(\u001b[0m\u001b[0mpattern\u001b[0m\u001b[1;33m,\u001b[0m \u001b[0mrepl\u001b[0m\u001b[1;33m,\u001b[0m \u001b[0mstring\u001b[0m\u001b[1;33m,\u001b[0m \u001b[0mcount\u001b[0m\u001b[1;33m=\u001b[0m\u001b[1;36m0\u001b[0m\u001b[1;33m,\u001b[0m \u001b[0mflags\u001b[0m\u001b[1;33m=\u001b[0m\u001b[1;36m0\u001b[0m\u001b[1;33m)\u001b[0m\u001b[1;33m:\u001b[0m\u001b[1;33m\u001b[0m\u001b[1;33m\u001b[0m\u001b[0m\n",
      "\u001b[1;31mTypeError\u001b[0m: expected string or bytes-like object"
     ]
    }
   ],
   "source": [
    "import re\n",
    "import pandas as pd\n",
    "import re\n",
    "import nltk\n",
    "stopword = nltk.corpus.stopwords.words('english')\n",
    "\n",
    "s = \"patients name is saraj sharma with age 25 and date of birth 28th february 1999 he is suffering from acute bronchitis symptoms include include dry cough for the last 3 days no fever and running nose he needs to take azithromycin 500 mg once a day for 3 days and robitussin 5 ml thrice a day for 5 days he is advised to drink warm water and he is not allowed to eat grapes\"\n",
    "s = s.lower()\n",
    "\n",
    "z = re.split(' he ',s)\n",
    "\n",
    "data = pd.DataFrame(z)\n",
    "data.columns = ['body']\n",
    "def tokenize(text):\n",
    "    tokens = re.split('\\W+',text)\n",
    "    return tokens\n",
    "data['body_text_clean'] = data['body'].apply(lambda x: tokenize(x.lower()))\n",
    "def remove_stopwords(list):\n",
    "    text = [word for word in list if word not in stopword]\n",
    "    return text\n",
    "data['body_text'] = data['body_text_clean'].apply(lambda x: remove_stopwords(x))\n",
    "for e in range(0,len(data['body_text'])-1):\n",
    "    t = len(data['body_text'][e])\n",
    "    for m in range(0,t):\n",
    "        x = re.search(\"suff\", data['body_text'][e])\n",
    "        if(x.start()):\n",
    "            index_s = e\n",
    "            break\n",
    "        y = re.search(\" symptoms \", data['body_text'][e])\n",
    "        if(y.start()):\n",
    "            index_symp = e\n",
    "            break\n",
    "S = ' '.join(data['body_text'][0])\n",
    "Name = re.split('name',S)[1]\n",
    "D = ' '.join(data['body_text'][1])\n",
    "Age = re.findall(' \\d\\d ',s)[0]\n",
    "Suffer = ' '.join(data['body_text'][index_s])\n",
    "S2 = re.split('suffering',Suffer)\n",
    "if(len(S2)<2):\n",
    "    S2 = re.split('has', Suffer)\n",
    "b = len(S2)\n",
    "S4 = S2[b-1]\n",
    "Symp = ' '.join(data['body_text'][index_symp])\n",
    "Symptoms1 = re.split('symptoms',Symp)\n",
    "Symptoms = Symptoms1[1]\n",
    "Med1 = \" \".join(data['body_text_clean'][4])\n",
    "Med = re.split('medicine[s*]',Med1)[1]\n",
    "Med2 = re.split(' and ',Med)\n",
    "Advice = \"\"\n",
    "for i in range(5, len(z)):\n",
    "    Advice1 = ' '.join(data['body_text_clean'][i])\n",
    "    Advice += \" \" + Advice1\n",
    "\n",
    "\n",
    "print('Name: '+Name + \"\\n\")\n",
    "print('Age: '+Age + \"\\n\")\n",
    "print('Diagnosis: ' + S4 + \"\\n\")\n",
    "print('Symptoms: '+ Symptoms + \"\\n\")\n",
    "print('Medicine: ')\n",
    "for i in range(0,len(Med2)):\n",
    "    print(i+1)\n",
    "    print(\" \" + Med2[i] + \"\\n\")\n",
    "print('Advice: '+Advice)\n"
   ]
  },
  {
   "cell_type": "code",
   "execution_count": 114,
   "metadata": {},
   "outputs": [
    {
     "ename": "NameError",
     "evalue": "name 'null' is not defined",
     "output_type": "error",
     "traceback": [
      "\u001b[1;31m---------------------------------------------------------------------------\u001b[0m",
      "\u001b[1;31mNameError\u001b[0m                                 Traceback (most recent call last)",
      "\u001b[1;32m<ipython-input-114-c1140e6b94af>\u001b[0m in \u001b[0;36m<module>\u001b[1;34m\u001b[0m\n\u001b[0;32m      1\u001b[0m \u001b[1;32mfor\u001b[0m \u001b[0me\u001b[0m \u001b[1;32min\u001b[0m \u001b[0mrange\u001b[0m\u001b[1;33m(\u001b[0m\u001b[1;36m0\u001b[0m\u001b[1;33m,\u001b[0m\u001b[0mlen\u001b[0m\u001b[1;33m(\u001b[0m\u001b[0mdata\u001b[0m\u001b[1;33m[\u001b[0m\u001b[1;34m'body_text'\u001b[0m\u001b[1;33m]\u001b[0m\u001b[1;33m)\u001b[0m\u001b[1;33m-\u001b[0m\u001b[1;36m1\u001b[0m\u001b[1;33m)\u001b[0m\u001b[1;33m:\u001b[0m\u001b[1;33m\u001b[0m\u001b[1;33m\u001b[0m\u001b[0m\n\u001b[0;32m      2\u001b[0m         \u001b[0mx\u001b[0m \u001b[1;33m=\u001b[0m \u001b[0mre\u001b[0m\u001b[1;33m.\u001b[0m\u001b[0msearch\u001b[0m\u001b[1;33m(\u001b[0m\u001b[1;34m\" suff\"\u001b[0m\u001b[1;33m,\u001b[0m \u001b[0mdata\u001b[0m\u001b[1;33m[\u001b[0m\u001b[1;34m'body'\u001b[0m\u001b[1;33m]\u001b[0m\u001b[1;33m[\u001b[0m\u001b[0me\u001b[0m\u001b[1;33m]\u001b[0m\u001b[1;33m)\u001b[0m\u001b[1;33m\u001b[0m\u001b[1;33m\u001b[0m\u001b[0m\n\u001b[1;32m----> 3\u001b[1;33m         \u001b[1;32mif\u001b[0m\u001b[1;33m(\u001b[0m\u001b[0mx\u001b[0m\u001b[1;33m!=\u001b[0m\u001b[0mnull\u001b[0m\u001b[1;33m)\u001b[0m\u001b[1;33m:\u001b[0m\u001b[1;33m\u001b[0m\u001b[1;33m\u001b[0m\u001b[0m\n\u001b[0m\u001b[0;32m      4\u001b[0m             \u001b[0mindex_su\u001b[0m \u001b[1;33m=\u001b[0m \u001b[0me\u001b[0m\u001b[1;33m\u001b[0m\u001b[1;33m\u001b[0m\u001b[0m\n\u001b[0;32m      5\u001b[0m         \u001b[0my\u001b[0m \u001b[1;33m=\u001b[0m \u001b[0mre\u001b[0m\u001b[1;33m.\u001b[0m\u001b[0msearch\u001b[0m\u001b[1;33m(\u001b[0m\u001b[1;34m\" sym \"\u001b[0m\u001b[1;33m,\u001b[0m \u001b[0mdata\u001b[0m\u001b[1;33m[\u001b[0m\u001b[1;34m'body'\u001b[0m\u001b[1;33m]\u001b[0m\u001b[1;33m[\u001b[0m\u001b[0me\u001b[0m\u001b[1;33m]\u001b[0m\u001b[1;33m)\u001b[0m\u001b[1;33m\u001b[0m\u001b[1;33m\u001b[0m\u001b[0m\n",
      "\u001b[1;31mNameError\u001b[0m: name 'null' is not defined"
     ]
    }
   ],
   "source": []
  },
  {
   "cell_type": "code",
   "execution_count": 122,
   "metadata": {},
   "outputs": [
    {
     "name": "stdout",
     "output_type": "stream",
     "text": [
      "1\n"
     ]
    }
   ],
   "source": [
    "x = data['body'][1].find('s')\n",
    "print(x)"
   ]
  },
  {
   "cell_type": "code",
   "execution_count": 123,
   "metadata": {},
   "outputs": [],
   "source": [
    "for e in range(0,len(data['body_text'])-1):\n",
    "        if(data['body'][e].find('suf') > 0):\n",
    "            index_su = e\n",
    "        if(data['body'][e].find('sym') > 0):\n",
    "            index_sy = e"
   ]
  },
  {
   "cell_type": "code",
   "execution_count": 124,
   "metadata": {},
   "outputs": [
    {
     "name": "stdout",
     "output_type": "stream",
     "text": [
      "1\n",
      "1\n"
     ]
    }
   ],
   "source": [
    "print(index_sy)\n",
    "print(index_su)"
   ]
  },
  {
   "cell_type": "code",
   "execution_count": 125,
   "metadata": {},
   "outputs": [
    {
     "ename": "TypeError",
     "evalue": "expected string or bytes-like object",
     "output_type": "error",
     "traceback": [
      "\u001b[1;31m---------------------------------------------------------------------------\u001b[0m",
      "\u001b[1;31mTypeError\u001b[0m                                 Traceback (most recent call last)",
      "\u001b[1;32m<ipython-input-125-1869e346e443>\u001b[0m in \u001b[0;36m<module>\u001b[1;34m\u001b[0m\n\u001b[1;32m----> 1\u001b[1;33m \u001b[0mx\u001b[0m\u001b[1;33m=\u001b[0m\u001b[0mre\u001b[0m\u001b[1;33m.\u001b[0m\u001b[0msplit\u001b[0m\u001b[1;33m(\u001b[0m\u001b[1;34m'suffering'\u001b[0m\u001b[1;33m,\u001b[0m\u001b[0mdata\u001b[0m\u001b[1;33m[\u001b[0m\u001b[1;34m'body_text'\u001b[0m\u001b[1;33m]\u001b[0m\u001b[1;33m[\u001b[0m\u001b[1;36m1\u001b[0m\u001b[1;33m]\u001b[0m\u001b[1;33m)\u001b[0m\u001b[1;33m\u001b[0m\u001b[1;33m\u001b[0m\u001b[0m\n\u001b[0m\u001b[0;32m      2\u001b[0m \u001b[0mprint\u001b[0m\u001b[1;33m(\u001b[0m\u001b[0mx\u001b[0m\u001b[1;33m)\u001b[0m\u001b[1;33m\u001b[0m\u001b[1;33m\u001b[0m\u001b[0m\n",
      "\u001b[1;32mc:\\users\\hp\\appdata\\local\\programs\\python\\python37-32\\lib\\re.py\u001b[0m in \u001b[0;36msplit\u001b[1;34m(pattern, string, maxsplit, flags)\u001b[0m\n\u001b[0;32m    211\u001b[0m     \u001b[1;32mand\u001b[0m \u001b[0mthe\u001b[0m \u001b[0mremainder\u001b[0m \u001b[0mof\u001b[0m \u001b[0mthe\u001b[0m \u001b[0mstring\u001b[0m \u001b[1;32mis\u001b[0m \u001b[0mreturned\u001b[0m \u001b[1;32mas\u001b[0m \u001b[0mthe\u001b[0m \u001b[0mfinal\u001b[0m \u001b[0melement\u001b[0m\u001b[1;33m\u001b[0m\u001b[1;33m\u001b[0m\u001b[0m\n\u001b[0;32m    212\u001b[0m     of the list.\"\"\"\n\u001b[1;32m--> 213\u001b[1;33m     \u001b[1;32mreturn\u001b[0m \u001b[0m_compile\u001b[0m\u001b[1;33m(\u001b[0m\u001b[0mpattern\u001b[0m\u001b[1;33m,\u001b[0m \u001b[0mflags\u001b[0m\u001b[1;33m)\u001b[0m\u001b[1;33m.\u001b[0m\u001b[0msplit\u001b[0m\u001b[1;33m(\u001b[0m\u001b[0mstring\u001b[0m\u001b[1;33m,\u001b[0m \u001b[0mmaxsplit\u001b[0m\u001b[1;33m)\u001b[0m\u001b[1;33m\u001b[0m\u001b[1;33m\u001b[0m\u001b[0m\n\u001b[0m\u001b[0;32m    214\u001b[0m \u001b[1;33m\u001b[0m\u001b[0m\n\u001b[0;32m    215\u001b[0m \u001b[1;32mdef\u001b[0m \u001b[0mfindall\u001b[0m\u001b[1;33m(\u001b[0m\u001b[0mpattern\u001b[0m\u001b[1;33m,\u001b[0m \u001b[0mstring\u001b[0m\u001b[1;33m,\u001b[0m \u001b[0mflags\u001b[0m\u001b[1;33m=\u001b[0m\u001b[1;36m0\u001b[0m\u001b[1;33m)\u001b[0m\u001b[1;33m:\u001b[0m\u001b[1;33m\u001b[0m\u001b[1;33m\u001b[0m\u001b[0m\n",
      "\u001b[1;31mTypeError\u001b[0m: expected string or bytes-like object"
     ]
    }
   ],
   "source": [
    "x=re.split('suffe',data['body_te][1])\n",
    "print(x)"
   ]
  },
  {
   "cell_type": "code",
   "execution_count": 126,
   "metadata": {},
   "outputs": [],
   "source": [
    "Suffer = ' '.join(data['body_text'][index_su])"
   ]
  },
  {
   "cell_type": "code",
   "execution_count": 127,
   "metadata": {},
   "outputs": [
    {
     "name": "stdout",
     "output_type": "stream",
     "text": [
      "['', 'ring acute bronchitis symptoms include include dry cough last 3 days fever running nose']\n"
     ]
    }
   ],
   "source": [
    "x=re.split('suffe',Suffer)\n",
    "print(x)"
   ]
  },
  {
   "cell_type": "code",
   "execution_count": 128,
   "metadata": {},
   "outputs": [
    {
     "name": "stdout",
     "output_type": "stream",
     "text": [
      "['suffering acute bronchitis ', 'ptoms include include dry cough last 3 days fever running nose']\n"
     ]
    }
   ],
   "source": [
    "q=re.split('sym',Suffer)\n",
    "print(q)"
   ]
  },
  {
   "cell_type": "code",
   "execution_count": 147,
   "metadata": {},
   "outputs": [],
   "source": [
    "if(index_su == index_sy):\n",
    "    comm = ' '.join(data['body_text'][index_su])\n",
    "    S2 = re.split('sufferings*', comm)"
   ]
  },
  {
   "cell_type": "code",
   "execution_count": 148,
   "metadata": {},
   "outputs": [
    {
     "name": "stdout",
     "output_type": "stream",
     "text": [
      "suffering acute bronchitis symptoms include include dry cough last 3 days fever running nose\n"
     ]
    }
   ],
   "source": [
    "print(comm)"
   ]
  },
  {
   "cell_type": "code",
   "execution_count": 149,
   "metadata": {},
   "outputs": [
    {
     "name": "stdout",
     "output_type": "stream",
     "text": [
      "['', ' acute bronchitis symptoms include include dry cough last 3 days fever running nose']\n"
     ]
    }
   ],
   "source": [
    "print(S2)"
   ]
  },
  {
   "cell_type": "code",
   "execution_count": 107,
   "metadata": {},
   "outputs": [
    {
     "name": "stdout",
     "output_type": "stream",
     "text": [
      "suffering acute bronchitis symptoms include dry cough last 3 days fever running nose\n",
      "['', ' acute bronchitis symptoms include dry cough last 3 days fever running nose']\n",
      "['']\n"
     ]
    },
    {
     "ename": "IndexError",
     "evalue": "list index out of range",
     "output_type": "error",
     "traceback": [
      "\u001b[1;31m---------------------------------------------------------------------------\u001b[0m",
      "\u001b[1;31mIndexError\u001b[0m                                Traceback (most recent call last)",
      "\u001b[1;32m<ipython-input-107-fa4306c59c56>\u001b[0m in \u001b[0;36m<module>\u001b[1;34m\u001b[0m\n\u001b[0;32m     76\u001b[0m     \u001b[0mb\u001b[0m \u001b[1;33m=\u001b[0m \u001b[0mlen\u001b[0m\u001b[1;33m(\u001b[0m\u001b[0mS2\u001b[0m\u001b[1;33m)\u001b[0m\u001b[1;33m\u001b[0m\u001b[1;33m\u001b[0m\u001b[0m\n\u001b[0;32m     77\u001b[0m     \u001b[0mS4\u001b[0m \u001b[1;33m=\u001b[0m \u001b[0mS2\u001b[0m\u001b[1;33m[\u001b[0m\u001b[0mb\u001b[0m\u001b[1;33m-\u001b[0m\u001b[1;36m1\u001b[0m\u001b[1;33m]\u001b[0m\u001b[1;33m\u001b[0m\u001b[1;33m\u001b[0m\u001b[0m\n\u001b[1;32m---> 78\u001b[1;33m \u001b[0mSymptoms\u001b[0m \u001b[1;33m=\u001b[0m \u001b[0mSymptoms1\u001b[0m\u001b[1;33m[\u001b[0m\u001b[1;36m1\u001b[0m\u001b[1;33m]\u001b[0m\u001b[1;33m\u001b[0m\u001b[1;33m\u001b[0m\u001b[0m\n\u001b[0m\u001b[0;32m     79\u001b[0m \u001b[1;32mif\u001b[0m \u001b[1;33m(\u001b[0m\u001b[0mindex_sy\u001b[0m \u001b[1;33m==\u001b[0m \u001b[0mindex_md\u001b[0m\u001b[1;33m)\u001b[0m\u001b[1;33m:\u001b[0m\u001b[1;33m\u001b[0m\u001b[1;33m\u001b[0m\u001b[0m\n\u001b[0;32m     80\u001b[0m     \u001b[0mSym1\u001b[0m \u001b[1;33m=\u001b[0m \u001b[0mre\u001b[0m\u001b[1;33m.\u001b[0m\u001b[0msplit\u001b[0m\u001b[1;33m(\u001b[0m\u001b[1;34m'medicines*'\u001b[0m\u001b[1;33m,\u001b[0m \u001b[0mSymptoms\u001b[0m\u001b[1;33m)\u001b[0m\u001b[1;33m\u001b[0m\u001b[1;33m\u001b[0m\u001b[0m\n",
      "\u001b[1;31mIndexError\u001b[0m: list index out of range"
     ]
    }
   ],
   "source": [
    "    import re\n",
    "    import pandas as pd\n",
    "    import re\n",
    "    import nltk\n",
    "    stopword = nltk.corpus.stopwords.words('english')\n",
    "    index_su = -1\n",
    "    index_sy = -1\n",
    "    index_md = -1\n",
    "    index_nm = -1\n",
    "    s = \"saraj sharma  25  years old and date of birth is 28th february 1999 he has acute bronchitis symptoms are dry cough for the last 3 days no fever and running nose medicines are azithromycin 500 mg once a day for 3 days and robitussin 5 ml thrice a day for 5 days he has  to drink warm water and is not allowed to eat grapes\"\n",
    "    s = s.lower()\n",
    "    z = re.split(' he ',s)\n",
    "    if(len(z)<2):\n",
    "        z = re.split(' she ', s)\n",
    "        GEN = \"FEMALE\"\n",
    "    else:\n",
    "        GEN = \"MALE\"\n",
    "\n",
    "    data = pd.DataFrame(z)\n",
    "    data.columns = ['body']\n",
    "    def tokenize(text):\n",
    "        tokens = re.split('\\W+',text)\n",
    "        return tokens\n",
    "    data['body_text_clean'] = data['body'].apply(lambda x: tokenize(x.lower()))\n",
    "    def remove_stopwords(list):\n",
    "        text = [word for word in list if word not in stopword]\n",
    "        return text\n",
    "    data['body_text'] = data['body_text_clean'].apply(lambda x: remove_stopwords(x))\n",
    "    for e in range(0,len(data['body_text'])-1):\n",
    "            if(data['body'][e].find('nam') > 0):\n",
    "                index_nm = e\n",
    "            if(data['body'][e].find('suf') > 0):\n",
    "                index_su = e\n",
    "            if(data['body'][e].find('sym') > 0):\n",
    "                index_sy = e\n",
    "            if(data['body'][e].find('med') > 0):\n",
    "                index_md = e\n",
    "    if(index_su == -1):\n",
    "        for e in range(0,len(data['body_text'])-1):\n",
    "            if(data['body'][e].find('has') >= 0):\n",
    "                index_su = e\n",
    "                break\n",
    "    if(index_md == -1):\n",
    "        for e in range(0,len(data['body_text'])-1):\n",
    "            if(data['body'][e].find('take') >= 0):\n",
    "                index_md = e\n",
    "                break\n",
    "    S = ' '.join(data['body_text'][0]) ## NAmE\n",
    "    Name = re.split('name',S)   ## NAmE\n",
    "    if(len(Name)<2):\n",
    "        Name = data['body_text'][0][0] + \" \" +data['body_text'][0][1]\n",
    "    else:\n",
    "        Name = Name[1]\n",
    "    Age = re.findall(' \\d\\d ',s)[0]  ## AGE\n",
    "    ## SAME INDEX of BOTH SYMPTOMS and SUFFERINGS\n",
    "    if(index_su == index_sy):\n",
    "        comm = ' '.join(data['body_text'][index_su])\n",
    "        S2 = re.split('sufferings*', comm)\n",
    "        Symptoms1 = re.split('symptoms*', S2[0])\n",
    "        if (len(S2) < 2):\n",
    "            S2 = re.split('has', Suffer)\n",
    "        S2=Symptoms1[0]\n",
    "        S4 = S2\n",
    "    else:\n",
    "        Suffer = ' '.join(data['body_text'][index_su])\n",
    "        S2 = re.split('sufferings*', Suffer)\n",
    "        Symp = ' '.join(data['body_text'][index_sy])\n",
    "        Symptoms1 = re.split('symptoms*', Symp)\n",
    "        \n",
    "    ## SAME COMMOM PROCESSING FOR ABOVE\n",
    "        if (len(S2) < 2):\n",
    "            S2 = re.split('has', Suffer)\n",
    "        b = len(S2)\n",
    "        S4 = S2[b-1]\n",
    "    Symptoms = Symptoms1[1]\n",
    "    if (index_sy == index_md):\n",
    "        Sym1 = re.split('medicines*', Symptoms)\n",
    "        Symptoms = Sym1[0]\n",
    "    Med1 = \" \".join(data['body_text_clean'][index_md])\n",
    "    Med2 = re.split('medicines*',Med1)\n",
    "    print()\n",
    "    if(len(Med2)<2):\n",
    "        Med2 = re.split('takes*', Med1)\n",
    "    Med4 = Med2[1]\n",
    "    Med3 = re.split(' and ',Med4)\n",
    "    Advice = \"\"\n",
    "    for i in range(index_md + 1, len(z)):\n",
    "        Advice1 = ' '.join(data['body_text_clean'][i])\n",
    "        Advice += \" \" + Advice1\n",
    "    print('Name: '+Name + \"\\n\")\n",
    "    print('Age: '+Age + \"\\n\")\n",
    "    print('Gender: '+GEN + \"\\n\")\n",
    "    print('Diagnosis: ' + S4 + \"\\n\")\n",
    "    print('Symptoms: '+ Symptoms + \"\\n\")\n",
    "    print('Medicine: ')\n",
    "    for i in range(0,len(Med3)):\n",
    "        print(i+1)\n",
    "        print(Med3[i] + \"\\n\")\n",
    "    print('Advice: '+Advice)"
   ]
  },
  {
   "cell_type": "code",
   "execution_count": null,
   "metadata": {},
   "outputs": [],
   "source": []
  }
 ],
 "metadata": {
  "kernelspec": {
   "display_name": "Python 3",
   "language": "python",
   "name": "python3"
  },
  "language_info": {
   "codemirror_mode": {
    "name": "ipython",
    "version": 3
   },
   "file_extension": ".py",
   "mimetype": "text/x-python",
   "name": "python",
   "nbconvert_exporter": "python",
   "pygments_lexer": "ipython3",
   "version": "3.7.3"
  }
 },
 "nbformat": 4,
 "nbformat_minor": 4
}
