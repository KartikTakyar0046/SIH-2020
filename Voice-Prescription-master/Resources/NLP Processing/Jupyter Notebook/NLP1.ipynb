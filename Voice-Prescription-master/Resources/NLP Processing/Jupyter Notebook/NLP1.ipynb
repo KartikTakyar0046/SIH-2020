{
 "cells": [
  {
   "cell_type": "code",
   "execution_count": 1,
   "metadata": {},
   "outputs": [],
   "source": [
    "import re\n",
    "\n",
    "re_test = 'I try to follow PEP8 guidelines'\n",
    "re_test1 = 'I try to follow PEP7 guidelines'\n",
    "re_test2 = 'I try to follow PEEP8 guidelines'"
   ]
  },
  {
   "cell_type": "code",
   "execution_count": 2,
   "metadata": {},
   "outputs": [
    {
     "data": {
      "text/plain": [
       "['try', 'to', 'follow', 'guidelines']"
      ]
     },
     "execution_count": 2,
     "metadata": {},
     "output_type": "execute_result"
    }
   ],
   "source": [
    "re.findall('[a-z]+',re_test)"
   ]
  },
  {
   "cell_type": "code",
   "execution_count": 3,
   "metadata": {},
   "outputs": [
    {
     "data": {
      "text/plain": [
       "['I', 'PEP']"
      ]
     },
     "execution_count": 3,
     "metadata": {},
     "output_type": "execute_result"
    }
   ],
   "source": [
    "re.findall('[A-Z]+',re_test)"
   ]
  },
  {
   "cell_type": "code",
   "execution_count": 4,
   "metadata": {},
   "outputs": [
    {
     "data": {
      "text/plain": [
       "['PEP8']"
      ]
     },
     "execution_count": 4,
     "metadata": {},
     "output_type": "execute_result"
    }
   ],
   "source": [
    "re.findall('[A-Z]+[0-9]+',re_test)"
   ]
  },
  {
   "cell_type": "code",
   "execution_count": 5,
   "metadata": {},
   "outputs": [
    {
     "data": {
      "text/plain": [
       "['PEP7']"
      ]
     },
     "execution_count": 5,
     "metadata": {},
     "output_type": "execute_result"
    }
   ],
   "source": [
    "re.findall('[A-Z]+[0-9]+',re_test1)"
   ]
  },
  {
   "cell_type": "code",
   "execution_count": 6,
   "metadata": {},
   "outputs": [
    {
     "data": {
      "text/plain": [
       "'I try to follow PEP8 Python Styleguide guidelines'"
      ]
     },
     "execution_count": 6,
     "metadata": {},
     "output_type": "execute_result"
    }
   ],
   "source": [
    "re.sub('[A-Z]+[0-9]+','PEP8 Python Styleguide')"
   ]
  },
  {
   "cell_type": "code",
   "execution_count": 7,
   "metadata": {},
   "outputs": [
    {
     "data": {
      "text/plain": [
       "'I try to follow PEP8 Python Styleguide guidelines'"
      ]
     },
     "execution_count": 7,
     "metadata": {},
     "output_type": "execute_result"
    }
   ],
   "source": [
    "re.sub('[A-Z]+[0-9]+','PEP8 Python Styleguide',re_test2)"
   ]
  },
  {
   "cell_type": "code",
   "execution_count": 9,
   "metadata": {},
   "outputs": [],
   "source": [
    "import nltk\n",
    "stopword = nltk.corpus.stopwords.words('english')"
   ]
  },
  {
   "cell_type": "code",
   "execution_count": 11,
   "metadata": {},
   "outputs": [],
   "source": [
    "def remove_stopwords(list):\n",
    "    text = [word for word in list if word not in stopword]\n",
    "    return text"
   ]
  },
  {
   "cell_type": "code",
   "execution_count": 12,
   "metadata": {},
   "outputs": [
    {
     "ename": "AttributeError",
     "evalue": "'str' object has no attribute 'apply'",
     "output_type": "error",
     "traceback": [
      "\u001b[1;31m---------------------------------------------------------------------------\u001b[0m",
      "\u001b[1;31mAttributeError\u001b[0m                            Traceback (most recent call last)",
      "\u001b[1;32m<ipython-input-12-c76a60b0850e>\u001b[0m in \u001b[0;36m<module>\u001b[1;34m\u001b[0m\n\u001b[0;32m      1\u001b[0m \u001b[0mstring\u001b[0m \u001b[1;33m=\u001b[0m \u001b[1;34m\"patients name is saraj sharma with age 25 and date of birth 28th february 1999. he is suffering from acute bronchitis. symptoms include include dry cough for the last 3 days, no fever and running nose. he needs to take azithromycin 500 mg once a day for 3 days and robitussin 5 ml thrice a day for 5 days. he is advised to drink warm water and he is not allowed to eat grapes.\"\u001b[0m\u001b[1;33m\u001b[0m\u001b[1;33m\u001b[0m\u001b[0m\n\u001b[1;32m----> 2\u001b[1;33m \u001b[0mdata\u001b[0m\u001b[1;33m[\u001b[0m\u001b[1;34m'cleaned'\u001b[0m\u001b[1;33m]\u001b[0m \u001b[1;33m=\u001b[0m \u001b[0mstring\u001b[0m\u001b[1;33m.\u001b[0m\u001b[0mapply\u001b[0m\u001b[1;33m(\u001b[0m\u001b[1;32mlambda\u001b[0m \u001b[0mx\u001b[0m\u001b[1;33m:\u001b[0m \u001b[0mremove_stopwords\u001b[0m\u001b[1;33m(\u001b[0m\u001b[0mx\u001b[0m\u001b[1;33m)\u001b[0m\u001b[1;33m)\u001b[0m\u001b[1;33m\u001b[0m\u001b[1;33m\u001b[0m\u001b[0m\n\u001b[0m\u001b[0;32m      3\u001b[0m \u001b[0mdata\u001b[0m\u001b[1;33m.\u001b[0m\u001b[0mhead\u001b[0m\u001b[1;33m(\u001b[0m\u001b[1;33m)\u001b[0m\u001b[1;33m\u001b[0m\u001b[1;33m\u001b[0m\u001b[0m\n",
      "\u001b[1;31mAttributeError\u001b[0m: 'str' object has no attribute 'apply'"
     ]
    }
   ],
   "source": [
    "string = \"patients name is saraj sharma with age 25 and date of birth 28th february 1999. he is suffering from acute bronchitis. symptoms include include dry cough for the last 3 days, no fever and running nose. he needs to take azithromycin 500 mg once a day for 3 days and robitussin 5 ml thrice a day for 5 days. he is advised to drink warm water and he is not allowed to eat grapes.\"\n",
    "data['cleaned'] = string.apply(lambda x: remove_stopwords(x))\n",
    "data.head()"
   ]
  },
  {
   "cell_type": "code",
   "execution_count": 16,
   "metadata": {},
   "outputs": [
    {
     "data": {
      "text/html": [
       "<div>\n",
       "<style scoped>\n",
       "    .dataframe tbody tr th:only-of-type {\n",
       "        vertical-align: middle;\n",
       "    }\n",
       "\n",
       "    .dataframe tbody tr th {\n",
       "        vertical-align: top;\n",
       "    }\n",
       "\n",
       "    .dataframe thead th {\n",
       "        text-align: right;\n",
       "    }\n",
       "</style>\n",
       "<table border=\"1\" class=\"dataframe\">\n",
       "  <thead>\n",
       "    <tr style=\"text-align: right;\">\n",
       "      <th></th>\n",
       "      <th>label</th>\n",
       "      <th>body_text</th>\n",
       "    </tr>\n",
       "  </thead>\n",
       "  <tbody>\n",
       "    <tr>\n",
       "      <th>0</th>\n",
       "      <td>name</td>\n",
       "      <td>patients name is saraj sharma with age 25 and ...</td>\n",
       "    </tr>\n",
       "    <tr>\n",
       "      <th>1</th>\n",
       "      <td>symptoms</td>\n",
       "      <td>symptoms include include dry cough for the las...</td>\n",
       "    </tr>\n",
       "    <tr>\n",
       "      <th>2</th>\n",
       "      <td>diagnosis</td>\n",
       "      <td>he is suffering from acute bronchitis.</td>\n",
       "    </tr>\n",
       "    <tr>\n",
       "      <th>3</th>\n",
       "      <td>prescription</td>\n",
       "      <td>he needs to take azithromycin 500 mg once a d...</td>\n",
       "    </tr>\n",
       "    <tr>\n",
       "      <th>4</th>\n",
       "      <td>advice</td>\n",
       "      <td>he is advised to drink warm water and he is no...</td>\n",
       "    </tr>\n",
       "  </tbody>\n",
       "</table>\n",
       "</div>"
      ],
      "text/plain": [
       "          label                                          body_text\n",
       "0          name  patients name is saraj sharma with age 25 and ...\n",
       "1      symptoms  symptoms include include dry cough for the las...\n",
       "2     diagnosis            he is suffering from acute bronchitis. \n",
       "3  prescription   he needs to take azithromycin 500 mg once a d...\n",
       "4        advice  he is advised to drink warm water and he is no..."
      ]
     },
     "execution_count": 16,
     "metadata": {},
     "output_type": "execute_result"
    }
   ],
   "source": [
    "import pandas as p\n",
    "data = p.read_csv(\"patient.csv\")\n",
    "data.head()"
   ]
  },
  {
   "cell_type": "raw",
   "metadata": {},
   "source": [
    "data['body_text_nostop'] = data[body_text].apply[lambda x: remove_stopwords]"
   ]
  },
  {
   "cell_type": "code",
   "execution_count": 29,
   "metadata": {},
   "outputs": [
    {
     "data": {
      "text/html": [
       "<div>\n",
       "<style scoped>\n",
       "    .dataframe tbody tr th:only-of-type {\n",
       "        vertical-align: middle;\n",
       "    }\n",
       "\n",
       "    .dataframe tbody tr th {\n",
       "        vertical-align: top;\n",
       "    }\n",
       "\n",
       "    .dataframe thead th {\n",
       "        text-align: right;\n",
       "    }\n",
       "</style>\n",
       "<table border=\"1\" class=\"dataframe\">\n",
       "  <thead>\n",
       "    <tr style=\"text-align: right;\">\n",
       "      <th></th>\n",
       "      <th>label</th>\n",
       "      <th>body_text</th>\n",
       "      <th>body_text_nostop</th>\n",
       "      <th>body_text_clean</th>\n",
       "    </tr>\n",
       "  </thead>\n",
       "  <tbody>\n",
       "    <tr>\n",
       "      <th>0</th>\n",
       "      <td>name</td>\n",
       "      <td>patients name is saraj sharma with age 25 and ...</td>\n",
       "      <td>[p, e, n,  , n, e,  ,  , r, j,  , h, r,  , w, ...</td>\n",
       "      <td>[patients, name, is, saraj, sharma, with, age,...</td>\n",
       "    </tr>\n",
       "    <tr>\n",
       "      <th>1</th>\n",
       "      <td>symptoms</td>\n",
       "      <td>symptoms include include dry cough for the las...</td>\n",
       "      <td>[p,  , n, c, l, u, e,  , n, c, l, u, e,  , r, ...</td>\n",
       "      <td>[symptoms, include, include, dry, cough, for, ...</td>\n",
       "    </tr>\n",
       "    <tr>\n",
       "      <th>2</th>\n",
       "      <td>diagnosis</td>\n",
       "      <td>he is suffering from acute bronchitis.</td>\n",
       "      <td>[ , h, e,  ,  , u, f, f, e, r, n, g,  , f, r, ...</td>\n",
       "      <td>[, he, is, suffering, from, acute, bronchitis, ]</td>\n",
       "    </tr>\n",
       "    <tr>\n",
       "      <th>3</th>\n",
       "      <td>prescription</td>\n",
       "      <td>he needs to take azithromycin 500 mg once a d...</td>\n",
       "      <td>[ , h, e,  , n, e, e,  ,  , k, e,  , z, h, r, ...</td>\n",
       "      <td>[, he, needs, to, take, azithromycin, 500, mg,...</td>\n",
       "    </tr>\n",
       "    <tr>\n",
       "      <th>4</th>\n",
       "      <td>advice</td>\n",
       "      <td>he is advised to drink warm water and he is no...</td>\n",
       "      <td>[h, e,  ,  , v, e,  ,  , r, n, k,  , w, r,  , ...</td>\n",
       "      <td>[he, is, advised, to, drink, warm, water, and,...</td>\n",
       "    </tr>\n",
       "  </tbody>\n",
       "</table>\n",
       "</div>"
      ],
      "text/plain": [
       "          label                                          body_text  \\\n",
       "0          name  patients name is saraj sharma with age 25 and ...   \n",
       "1      symptoms  symptoms include include dry cough for the las...   \n",
       "2     diagnosis            he is suffering from acute bronchitis.    \n",
       "3  prescription   he needs to take azithromycin 500 mg once a d...   \n",
       "4        advice  he is advised to drink warm water and he is no...   \n",
       "\n",
       "                                    body_text_nostop  \\\n",
       "0  [p, e, n,  , n, e,  ,  , r, j,  , h, r,  , w, ...   \n",
       "1  [p,  , n, c, l, u, e,  , n, c, l, u, e,  , r, ...   \n",
       "2  [ , h, e,  ,  , u, f, f, e, r, n, g,  , f, r, ...   \n",
       "3  [ , h, e,  , n, e, e,  ,  , k, e,  , z, h, r, ...   \n",
       "4  [h, e,  ,  , v, e,  ,  , r, n, k,  , w, r,  , ...   \n",
       "\n",
       "                                     body_text_clean  \n",
       "0  [patients, name, is, saraj, sharma, with, age,...  \n",
       "1  [symptoms, include, include, dry, cough, for, ...  \n",
       "2   [, he, is, suffering, from, acute, bronchitis, ]  \n",
       "3  [, he, needs, to, take, azithromycin, 500, mg,...  \n",
       "4  [he, is, advised, to, drink, warm, water, and,...  "
      ]
     },
     "execution_count": 29,
     "metadata": {},
     "output_type": "execute_result"
    }
   ],
   "source": [
    "data['body_text_nostop'] = data['body_text'].apply(lambda x: remove_stopwords(x))\n",
    "data.head()"
   ]
  },
  {
   "cell_type": "code",
   "execution_count": 28,
   "metadata": {},
   "outputs": [
    {
     "data": {
      "text/html": [
       "<div>\n",
       "<style scoped>\n",
       "    .dataframe tbody tr th:only-of-type {\n",
       "        vertical-align: middle;\n",
       "    }\n",
       "\n",
       "    .dataframe tbody tr th {\n",
       "        vertical-align: top;\n",
       "    }\n",
       "\n",
       "    .dataframe thead th {\n",
       "        text-align: right;\n",
       "    }\n",
       "</style>\n",
       "<table border=\"1\" class=\"dataframe\">\n",
       "  <thead>\n",
       "    <tr style=\"text-align: right;\">\n",
       "      <th></th>\n",
       "      <th>label</th>\n",
       "      <th>body_text</th>\n",
       "      <th>body_text_nostop</th>\n",
       "      <th>body_text_clean</th>\n",
       "    </tr>\n",
       "  </thead>\n",
       "  <tbody>\n",
       "    <tr>\n",
       "      <th>0</th>\n",
       "      <td>name</td>\n",
       "      <td>patients name is saraj sharma with age 25 and ...</td>\n",
       "      <td>[p, e, n,  , n, e,  ,  , r, j,  , h, r,  , w, ...</td>\n",
       "      <td>[patients, name, is, saraj, sharma, with, age,...</td>\n",
       "    </tr>\n",
       "    <tr>\n",
       "      <th>1</th>\n",
       "      <td>symptoms</td>\n",
       "      <td>symptoms include include dry cough for the las...</td>\n",
       "      <td>[p,  , n, c, l, u, e,  , n, c, l, u, e,  , r, ...</td>\n",
       "      <td>[symptoms, include, include, dry, cough, for, ...</td>\n",
       "    </tr>\n",
       "    <tr>\n",
       "      <th>2</th>\n",
       "      <td>diagnosis</td>\n",
       "      <td>he is suffering from acute bronchitis.</td>\n",
       "      <td>[ , h, e,  ,  , u, f, f, e, r, n, g,  , f, r, ...</td>\n",
       "      <td>[, he, is, suffering, from, acute, bronchitis, ]</td>\n",
       "    </tr>\n",
       "    <tr>\n",
       "      <th>3</th>\n",
       "      <td>prescription</td>\n",
       "      <td>he needs to take azithromycin 500 mg once a d...</td>\n",
       "      <td>[ , h, e,  , n, e, e,  ,  , k, e,  , z, h, r, ...</td>\n",
       "      <td>[, he, needs, to, take, azithromycin, 500, mg,...</td>\n",
       "    </tr>\n",
       "    <tr>\n",
       "      <th>4</th>\n",
       "      <td>advice</td>\n",
       "      <td>he is advised to drink warm water and he is no...</td>\n",
       "      <td>[h, e,  ,  , v, e,  ,  , r, n, k,  , w, r,  , ...</td>\n",
       "      <td>[he, is, advised, to, drink, warm, water, and,...</td>\n",
       "    </tr>\n",
       "  </tbody>\n",
       "</table>\n",
       "</div>"
      ],
      "text/plain": [
       "          label                                          body_text  \\\n",
       "0          name  patients name is saraj sharma with age 25 and ...   \n",
       "1      symptoms  symptoms include include dry cough for the las...   \n",
       "2     diagnosis            he is suffering from acute bronchitis.    \n",
       "3  prescription   he needs to take azithromycin 500 mg once a d...   \n",
       "4        advice  he is advised to drink warm water and he is no...   \n",
       "\n",
       "                                    body_text_nostop  \\\n",
       "0  [p, e, n,  , n, e,  ,  , r, j,  , h, r,  , w, ...   \n",
       "1  [p,  , n, c, l, u, e,  , n, c, l, u, e,  , r, ...   \n",
       "2  [ , h, e,  ,  , u, f, f, e, r, n, g,  , f, r, ...   \n",
       "3  [ , h, e,  , n, e, e,  ,  , k, e,  , z, h, r, ...   \n",
       "4  [h, e,  ,  , v, e,  ,  , r, n, k,  , w, r,  , ...   \n",
       "\n",
       "                                     body_text_clean  \n",
       "0  [patients, name, is, saraj, sharma, with, age,...  \n",
       "1  [symptoms, include, include, dry, cough, for, ...  \n",
       "2   [, he, is, suffering, from, acute, bronchitis, ]  \n",
       "3  [, he, needs, to, take, azithromycin, 500, mg,...  \n",
       "4  [he, is, advised, to, drink, warm, water, and,...  "
      ]
     },
     "execution_count": 28,
     "metadata": {},
     "output_type": "execute_result"
    }
   ],
   "source": [
    "import re\n",
    "def tokenize(text):\n",
    "    tokens = re.split('\\W+',text)\n",
    "    return tokens\n",
    "data['body_text_clean'] = data['body_text'].apply(lambda x: tokenize(x.lower()))\n",
    "data.head()"
   ]
  },
  {
   "cell_type": "code",
   "execution_count": 30,
   "metadata": {},
   "outputs": [
    {
     "data": {
      "text/html": [
       "<div>\n",
       "<style scoped>\n",
       "    .dataframe tbody tr th:only-of-type {\n",
       "        vertical-align: middle;\n",
       "    }\n",
       "\n",
       "    .dataframe tbody tr th {\n",
       "        vertical-align: top;\n",
       "    }\n",
       "\n",
       "    .dataframe thead th {\n",
       "        text-align: right;\n",
       "    }\n",
       "</style>\n",
       "<table border=\"1\" class=\"dataframe\">\n",
       "  <thead>\n",
       "    <tr style=\"text-align: right;\">\n",
       "      <th></th>\n",
       "      <th>label</th>\n",
       "      <th>body_text</th>\n",
       "      <th>body_text_nostop</th>\n",
       "      <th>body_text_clean</th>\n",
       "    </tr>\n",
       "  </thead>\n",
       "  <tbody>\n",
       "    <tr>\n",
       "      <th>0</th>\n",
       "      <td>name</td>\n",
       "      <td>patients name is saraj sharma with age 25 and ...</td>\n",
       "      <td>[patients, name, saraj, sharma, age, 25, date,...</td>\n",
       "      <td>[patients, name, is, saraj, sharma, with, age,...</td>\n",
       "    </tr>\n",
       "    <tr>\n",
       "      <th>1</th>\n",
       "      <td>symptoms</td>\n",
       "      <td>symptoms include include dry cough for the las...</td>\n",
       "      <td>[symptoms, include, include, dry, cough, last,...</td>\n",
       "      <td>[symptoms, include, include, dry, cough, for, ...</td>\n",
       "    </tr>\n",
       "    <tr>\n",
       "      <th>2</th>\n",
       "      <td>diagnosis</td>\n",
       "      <td>he is suffering from acute bronchitis.</td>\n",
       "      <td>[, suffering, acute, bronchitis, ]</td>\n",
       "      <td>[, he, is, suffering, from, acute, bronchitis, ]</td>\n",
       "    </tr>\n",
       "    <tr>\n",
       "      <th>3</th>\n",
       "      <td>prescription</td>\n",
       "      <td>he needs to take azithromycin 500 mg once a d...</td>\n",
       "      <td>[, needs, take, azithromycin, 500, mg, day, 3,...</td>\n",
       "      <td>[, he, needs, to, take, azithromycin, 500, mg,...</td>\n",
       "    </tr>\n",
       "    <tr>\n",
       "      <th>4</th>\n",
       "      <td>advice</td>\n",
       "      <td>he is advised to drink warm water and he is no...</td>\n",
       "      <td>[advised, drink, warm, water, allowed, eat, gr...</td>\n",
       "      <td>[he, is, advised, to, drink, warm, water, and,...</td>\n",
       "    </tr>\n",
       "  </tbody>\n",
       "</table>\n",
       "</div>"
      ],
      "text/plain": [
       "          label                                          body_text  \\\n",
       "0          name  patients name is saraj sharma with age 25 and ...   \n",
       "1      symptoms  symptoms include include dry cough for the las...   \n",
       "2     diagnosis            he is suffering from acute bronchitis.    \n",
       "3  prescription   he needs to take azithromycin 500 mg once a d...   \n",
       "4        advice  he is advised to drink warm water and he is no...   \n",
       "\n",
       "                                    body_text_nostop  \\\n",
       "0  [patients, name, saraj, sharma, age, 25, date,...   \n",
       "1  [symptoms, include, include, dry, cough, last,...   \n",
       "2                 [, suffering, acute, bronchitis, ]   \n",
       "3  [, needs, take, azithromycin, 500, mg, day, 3,...   \n",
       "4  [advised, drink, warm, water, allowed, eat, gr...   \n",
       "\n",
       "                                     body_text_clean  \n",
       "0  [patients, name, is, saraj, sharma, with, age,...  \n",
       "1  [symptoms, include, include, dry, cough, for, ...  \n",
       "2   [, he, is, suffering, from, acute, bronchitis, ]  \n",
       "3  [, he, needs, to, take, azithromycin, 500, mg,...  \n",
       "4  [he, is, advised, to, drink, warm, water, and,...  "
      ]
     },
     "execution_count": 30,
     "metadata": {},
     "output_type": "execute_result"
    }
   ],
   "source": [
    "data['body_text_nostop'] = data['body_text_clean'].apply(lambda x: remove_stopwords(x))\n",
    "data.head()"
   ]
  },
  {
   "cell_type": "code",
   "execution_count": 31,
   "metadata": {},
   "outputs": [
    {
     "name": "stdout",
     "output_type": "stream",
     "text": [
      "['advised', 'drink', 'warm', 'water', 'allowed', 'eat', 'grapes', '']\n"
     ]
    }
   ],
   "source": [
    "print(data['body_text_nostop'][4])"
   ]
  },
  {
   "cell_type": "code",
   "execution_count": 32,
   "metadata": {},
   "outputs": [
    {
     "name": "stdout",
     "output_type": "stream",
     "text": [
      "['', 'needs', 'take', 'azithromycin', '500', 'mg', 'day', '3', 'days', 'robitussin', '5', 'ml', 'thrice', 'day', '5', 'days', '']\n"
     ]
    }
   ],
   "source": [
    "print(data['body_text_nostop'][3])"
   ]
  },
  {
   "cell_type": "code",
   "execution_count": 33,
   "metadata": {},
   "outputs": [
    {
     "name": "stdout",
     "output_type": "stream",
     "text": [
      " he needs to take azithromycin 500 mg once a day for 3 days and robitussin 5 ml thrice a day for 5 days. \n"
     ]
    }
   ],
   "source": [
    "print(data['body_text'][3])"
   ]
  },
  {
   "cell_type": "code",
   "execution_count": 47,
   "metadata": {},
   "outputs": [
    {
     "ename": "AttributeError",
     "evalue": "'re.Match' object has no attribute 'len'",
     "output_type": "error",
     "traceback": [
      "\u001b[1;31m---------------------------------------------------------------------------\u001b[0m",
      "\u001b[1;31mAttributeError\u001b[0m                            Traceback (most recent call last)",
      "\u001b[1;32m<ipython-input-47-be3d56ea9f05>\u001b[0m in \u001b[0;36m<module>\u001b[1;34m\u001b[0m\n\u001b[0;32m      1\u001b[0m \u001b[0my\u001b[0m \u001b[1;33m=\u001b[0m \u001b[0mre\u001b[0m\u001b[1;33m.\u001b[0m\u001b[0mmatch\u001b[0m\u001b[1;33m(\u001b[0m\u001b[1;34m\"symp\"\u001b[0m\u001b[1;33m,\u001b[0m\u001b[0mdata\u001b[0m\u001b[1;33m[\u001b[0m\u001b[1;34m'body_text'\u001b[0m\u001b[1;33m]\u001b[0m\u001b[1;33m[\u001b[0m\u001b[1;36m1\u001b[0m\u001b[1;33m]\u001b[0m\u001b[1;33m)\u001b[0m\u001b[1;33m\u001b[0m\u001b[1;33m\u001b[0m\u001b[0m\n\u001b[1;32m----> 2\u001b[1;33m \u001b[0mprint\u001b[0m\u001b[1;33m(\u001b[0m\u001b[0my\u001b[0m\u001b[1;33m.\u001b[0m\u001b[0mlen\u001b[0m\u001b[1;33m(\u001b[0m\u001b[1;33m)\u001b[0m\u001b[1;33m)\u001b[0m\u001b[1;33m\u001b[0m\u001b[1;33m\u001b[0m\u001b[0m\n\u001b[0m",
      "\u001b[1;31mAttributeError\u001b[0m: 're.Match' object has no attribute 'len'"
     ]
    }
   ],
   "source": [
    "y = re.match(\"symp\",data['body_text'][1])\n",
    "print(y.len())"
   ]
  },
  {
   "cell_type": "code",
   "execution_count": null,
   "metadata": {},
   "outputs": [],
   "source": []
  }
 ],
 "metadata": {
  "kernelspec": {
   "display_name": "Python 3",
   "language": "python",
   "name": "python3"
  },
  "language_info": {
   "codemirror_mode": {
    "name": "ipython",
    "version": 3
   },
   "file_extension": ".py",
   "mimetype": "text/x-python",
   "name": "python",
   "nbconvert_exporter": "python",
   "pygments_lexer": "ipython3",
   "version": "3.7.3"
  }
 },
 "nbformat": 4,
 "nbformat_minor": 4
}
